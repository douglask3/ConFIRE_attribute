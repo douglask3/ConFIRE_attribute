{
 "cells": [
  {
   "cell_type": "markdown",
   "metadata": {},
   "source": [
    "<table style=\"width: 100%; border-collapse: collapse;\" border=\"0\">\n",
    "<tr>\n",
    "<td><b>Created:</b> Monday 30 January 2017</td>\n",
    "<td style=\"text-align: right;\"><a href=\"https://www.github.com/rhyswhitley/fire_limitation\">github.com/rhyswhitley/fire_limitation</td>\n",
    "</tr>\n",
    "</table>\n",
    "\n",
    "<div>\n",
    "<center>\n",
    "<font face=\"Times\">\n",
    "<br>\n",
    "<h1>Quantifying the uncertainity of a global fire limitation model using Bayesian inference</h1>\n",
    "<h2>Part 1: Staging data for analysis</h2>\n",
    "<br>\n",
    "<br>\n",
    "<sup>1,* </sup>Douglas Kelley, \n",
    "<sup>2 </sup>Ioannis Bistinas, \n",
    "<sup>3, 4 </sup>Chantelle Burton, \n",
    "<sup>1 </sup>Tobias Marthews, \n",
    "<sup>5 </sup>Rhys Whitley\n",
    "<br>\n",
    "<br>\n",
    "<br>\n",
    "<sup>1 </sup>Centre for Ecology and Hydrology, Maclean Building, Crowmarsh Gifford, Wallingford, Oxfordshire, United Kingdom\n",
    "<br>\n",
    "<sup>2 </sup>Vrije Universiteit Amsterdam, Faculty of Earth and Life Sciences, Amsterdam, Netherlands\n",
    "<br>\n",
    "<sup>3 </sup>Met Office United Kingdom, Exeter, United Kingdom\n",
    "<br>\n",
    "<sup>4 </sup>Geography, University of Exeter, Exeter, United Kingdom\n",
    "<br>\n",
    "<sup>5 </sup>Natural Perils Pricing, Commercial & Consumer Portfolio & Pricing, Suncorp Group, Sydney, Australia\n",
    "<br>\n",
    "<br>\n",
    "<h3>Summary</h3>\n",
    "<hr>\n",
    "<p> \n",
    "This notebook aims to process the separate netCDF4 files for the model drivers (X<sub>i=1, 2, ... M</sub>) and model target (Y) into a unified tabular data frame, exported as a compressed comma separated value (CSV) file. This file is subsequently used in the Bayesian inference study that forms the second notebook in this experiment. The advantage of the pre-processing the data separately to the analysis allows for it be quickly staged on demand. Of course other file formats may be more advantageous for greater compression (e.g. SQLite3 database file).\n",
    "</p>\n",
    "<br>\n",
    "<b>You will need to run this notebook to prepare the dataest before you attempt the Bayesian analysis in Part 2</b>.\n",
    "<br>\n",
    "<br>\n",
    "<br>\n",
    "<i>Python code and calculations below</i>\n",
    "<br>\n",
    "<hr>\n",
    "</font>\n",
    "</center>\n",
    "</div>"
   ]
  },
  {
   "cell_type": "markdown",
   "metadata": {},
   "source": [
    "## Load libraries\n",
    "\n",
    "Changed"
   ]
  },
  {
   "cell_type": "code",
   "execution_count": 33,
   "metadata": {},
   "outputs": [],
   "source": [
    "# data munging and analytical libraries \n",
    "import re\n",
    "import os\n",
    "import numpy as np\n",
    "import pandas as pd\n",
    "from netCDF4 import Dataset \n",
    "\n",
    "# graphical libraries\n",
    "import matplotlib.pyplot as plt\n",
    "%matplotlib inline\n",
    "\n",
    "# set paths\n",
    "inPath = \"../outputs/Australia_region/\"\n",
    "outPath = \"../temp/SE_AUS_climate_TS/\"\n"
   ]
  },
  {
   "cell_type": "markdown",
   "metadata": {},
   "source": [
    "## Import and clean data\n",
    "\n",
    "Set the directory path and look for all netcdf files that correspond to the model drivers and target."
   ]
  },
  {
   "cell_type": "code",
   "execution_count": 34,
   "metadata": {},
   "outputs": [
    {
     "name": "stdout",
     "output_type": "stream",
     "text": [
      "['../outputs/Australia_region/climate/full_period/emc-1979-2019.nc'\n",
      " '../outputs/Australia_region/climate/full_period/soilw.0-10cm.gauss.1949-2019.nc'\n",
      " '../outputs/Australia_region/vegetation/full_period/MaxOverMean_soilw.0-10cm.gauss.1949-2019.nc']\n"
     ]
    }
   ],
   "source": [
    "driver_paths_all = [os.path.join(dp, f) for (dp, _, fn) in os.walk(inPath) for f in fn if f.endswith('.nc')]\n",
    "driver_paths_all = [path for path in driver_paths_all if 'full_period' in  path]\n",
    "driver_names_all = [re.search('^[a-zA-Z_]*', os.path.basename(fp)).group(0) for fp in driver_paths_all]\n",
    "\n",
    "file_table = pd.DataFrame({'filepath': driver_paths_all, 'file_name': driver_names_all})\n",
    "\n",
    "def checkFilename(driver_name, sat):\n",
    "    \n",
    "    if \"firecount\" in driver_name:\n",
    "        if sat in driver_name: return True\n",
    "        return False\n",
    "    \n",
    "    return True\n",
    "\n",
    "#def select_files_for_sat(sat):\n",
    "#    test = [checkFilename(driver_name, sat) for driver_name in driver_names_all]\n",
    "    \n",
    "driver_paths = np.array(driver_paths_all)#test]\n",
    "driver_names = np.array(driver_names_all)#[test]\n",
    "print(driver_paths)\n",
    "#    driver_names = [\"firecount\" if \"firecount\" in driver_name else driver_name for driver_name in driver_names]\n",
    "#    return driver_paths, driver_names\n",
    "    \n",
    "driver_info = [driver_paths, driver_names]#[select_files_for_sat(sat) for sat in satalites]"
   ]
  },
  {
   "cell_type": "markdown",
   "metadata": {},
   "source": [
    "Define a function to extract the variable values from each netCDF4 file. Variables are flattened from a 3 dimensional array to 1 dimensional version, pooling all values both spatially and temporily. \n",
    "\n",
    "Don't know if this is the correct way to do this, but will come back to it once I understand the model (and its optimisation) better."
   ]
  },
  {
   "cell_type": "code",
   "execution_count": 35,
   "metadata": {},
   "outputs": [],
   "source": [
    "from pdb import set_trace as browser\n",
    "\n",
    "def nc_extract(fpath, fname):\n",
    "    print(fpath)\n",
    "    print(\"Processing: {0}\".format(fpath))\n",
    "    with Dataset(fpath, 'r') as nc_file:\n",
    "        gdata = np.array(nc_file.variables['variable'][:,:,:])\n",
    "        \n",
    "        gdata[gdata < -9E9] = np.nan\n",
    "        def anyNaN(x):\n",
    "            return np.any(np.isnan(x))\n",
    "        \n",
    "        if type(gdata) == np.ma.core.MaskedArray:\n",
    "            browser()\n",
    "        else:            \n",
    "            mask = np.apply_along_axis(anyNaN, 0, gdata)\n",
    "            gdata = gdata[:,~mask]\n",
    "        \n",
    "        \n",
    "        df = pd.DataFrame(np.array(gdata))\n",
    "        outPathi = outPath + fname + '.csv'\n",
    "        savepath = os.path.expanduser(outPathi)\n",
    "        df.to_csv(savepath, index=False)\n",
    "        "
   ]
  },
  {
   "cell_type": "markdown",
   "metadata": {},
   "source": [
    "Execute the above function on all netCDF4 file paths."
   ]
  },
  {
   "cell_type": "code",
   "execution_count": 36,
   "metadata": {},
   "outputs": [
    {
     "name": "stdout",
     "output_type": "stream",
     "text": [
      "../outputs/Australia_region/climate/full_period/emc-1979-2019.nc\n",
      "Processing: ../outputs/Australia_region/climate/full_period/emc-1979-2019.nc\n",
      "../outputs/Australia_region/climate/full_period/soilw.0-10cm.gauss.1949-2019.nc\n",
      "Processing: ../outputs/Australia_region/climate/full_period/soilw.0-10cm.gauss.1949-2019.nc\n",
      "../outputs/Australia_region/vegetation/full_period/MaxOverMean_soilw.0-10cm.gauss.1949-2019.nc\n",
      "Processing: ../outputs/Australia_region/vegetation/full_period/MaxOverMean_soilw.0-10cm.gauss.1949-2019.nc\n"
     ]
    }
   ],
   "source": [
    "values = [nc_extract(dp, fname) for dp, fname in zip(driver_paths, driver_names)]"
   ]
  }
 ],
 "metadata": {
  "kernelspec": {
   "display_name": "Python 3",
   "language": "python",
   "name": "python3"
  },
  "language_info": {
   "codemirror_mode": {
    "name": "ipython",
    "version": 3
   },
   "file_extension": ".py",
   "mimetype": "text/x-python",
   "name": "python",
   "nbconvert_exporter": "python",
   "pygments_lexer": "ipython3",
   "version": "3.7.3"
  }
 },
 "nbformat": 4,
 "nbformat_minor": 1
}
