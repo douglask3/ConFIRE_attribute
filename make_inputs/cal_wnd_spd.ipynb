{
 "cells": [
  {
   "cell_type": "markdown",
   "metadata": {},
   "source": [
    "# Combine u and v wind files"
   ]
  },
  {
   "cell_type": "code",
   "execution_count": 2,
   "metadata": {},
   "outputs": [
    {
     "name": "stderr",
     "output_type": "stream",
     "text": [
      "/home/meganbrown/miniconda3/envs/uvis_env/lib/python3.6/site-packages/dask/config.py:131: YAMLLoadWarning: calling yaml.load() without Loader=... is deprecated, as the default Loader is unsafe. Please read https://msg.pyyaml.org/load for full details.\n",
      "  data = yaml.load(f.read()) or {}\n"
     ]
    }
   ],
   "source": [
    "# Libraries\n",
    "%load_ext autoreload\n",
    "%autoreload\n",
    "\n",
    "\n",
    "import numpy as np\n",
    "import iris\n",
    "import iris.coord_categorisation\n",
    "from iris.util import unify_time_units\n",
    "from iris.experimental.equalise_cubes import equalise_attributes\n",
    "# import pandas as pd\n",
    "\n",
    "import glob\n",
    "import sys\n",
    "sys.path.append('../')\n",
    "from libs.plot_maps import *\n",
    "\n",
    "\n",
    "import warnings\n",
    "warnings.filterwarnings('ignore')\n",
    "import matplotlib.pyplot as plt\n",
    "import numpy.ma as ma\n",
    "%matplotlib inline\n",
    "import cartopy.crs as ccrs"
   ]
  },
  {
   "cell_type": "markdown",
   "metadata": {},
   "source": [
    "### Extracting files\n",
    "Set year range of interest. Note the v and u files must be in the same directory. If you want all files in the directory, use the code commented out (it's much faster!)."
   ]
  },
  {
   "cell_type": "code",
   "execution_count": 80,
   "metadata": {},
   "outputs": [
    {
     "name": "stdout",
     "output_type": "stream",
     "text": [
      "../data/aus_wind/uwnd.10m.gauss.2001.nc../data/aus_wind/vwnd.10m.gauss.2001.nc\n"
     ]
    }
   ],
   "source": [
    "path     = '../data/aus_wind/'\n",
    "path_out = '../data/aus_wind/'\n",
    "outfile = 'swnd.10m.gauss.'\n",
    "\n",
    "# Chooses year range you want\n",
    "years = range(2001, 2010)\n",
    "u_files = []\n",
    "v_files = []\n",
    "for year in years:\n",
    "    u_files.append(path + 'uwnd.10m.gauss.' + str(year) + '.nc')\n",
    "    v_files.append(path + 'vwnd.10m.gauss.' + str(year) + '.nc')\n",
    "\n",
    "\n",
    "### For all u and v files\n",
    "# u_files = glob.glob(path + 'u*.nc') # use 'recursive = True' to include subdirectories\n",
    "# u_files = sorted(u_files) # sort alphabetically\n",
    "# v_files = glob.glob(path + 'v*.nc') \n",
    "\n",
    "# Checking file names\n",
    "print(u_files[0] + v_files[0])"
   ]
  },
  {
   "cell_type": "markdown",
   "metadata": {},
   "source": [
    "#### Concatenate all u files together and all v files together"
   ]
  },
  {
   "cell_type": "code",
   "execution_count": 57,
   "metadata": {},
   "outputs": [
    {
     "name": "stdout",
     "output_type": "stream",
     "text": [
      "[<iris 'Cube' of 4xDaily u-wind at 10 m / (m/s) (time: 1460; latitude: 94; longitude: 192)>, <iris 'Cube' of 4xDaily u-wind at 10 m / (m/s) (time: 1460; latitude: 94; longitude: 192)>, <iris 'Cube' of 4xDaily u-wind at 10 m / (m/s) (time: 1460; latitude: 94; longitude: 192)>]\n"
     ]
    },
    {
     "ename": "MergeError",
     "evalue": "failed to merge into a single cube.\n  Coordinates in cube.dim_coords differ: time.",
     "output_type": "error",
     "traceback": [
      "\u001b[0;31m---------------------------------------------------------------------------\u001b[0m",
      "\u001b[0;31mMergeError\u001b[0m                                Traceback (most recent call last)",
      "\u001b[0;32m<ipython-input-57-7cad7b8ee0d1>\u001b[0m in \u001b[0;36m<module>\u001b[0;34m\u001b[0m\n\u001b[1;32m     10\u001b[0m \u001b[0mu_cube_list\u001b[0m \u001b[0;34m=\u001b[0m \u001b[0miris\u001b[0m\u001b[0;34m.\u001b[0m\u001b[0mcube\u001b[0m\u001b[0;34m.\u001b[0m\u001b[0mCubeList\u001b[0m\u001b[0;34m(\u001b[0m\u001b[0muList\u001b[0m\u001b[0;34m)\u001b[0m\u001b[0;34m\u001b[0m\u001b[0m\n\u001b[1;32m     11\u001b[0m \u001b[0mequalise_attributes\u001b[0m\u001b[0;34m(\u001b[0m\u001b[0mu_cube_list\u001b[0m\u001b[0;34m)\u001b[0m\u001b[0;34m\u001b[0m\u001b[0m\n\u001b[0;32m---> 12\u001b[0;31m \u001b[0mu\u001b[0m \u001b[0;34m=\u001b[0m \u001b[0mu_cube_list\u001b[0m\u001b[0;34m.\u001b[0m\u001b[0mmerge_cube\u001b[0m\u001b[0;34m(\u001b[0m\u001b[0;34m)\u001b[0m\u001b[0;34m\u001b[0m\u001b[0m\n\u001b[0m\u001b[1;32m     13\u001b[0m \u001b[0;34m\u001b[0m\u001b[0m\n\u001b[1;32m     14\u001b[0m \u001b[0;31m# # Load v files\u001b[0m\u001b[0;34m\u001b[0m\u001b[0;34m\u001b[0m\u001b[0m\n",
      "\u001b[0;32m~/miniconda3/envs/uvis_env/lib/python3.6/site-packages/iris/cube.py\u001b[0m in \u001b[0;36mmerge_cube\u001b[0;34m(self)\u001b[0m\n\u001b[1;32m    377\u001b[0m         \u001b[0mproto_cube\u001b[0m \u001b[0;34m=\u001b[0m \u001b[0miris\u001b[0m\u001b[0;34m.\u001b[0m\u001b[0m_merge\u001b[0m\u001b[0;34m.\u001b[0m\u001b[0mProtoCube\u001b[0m\u001b[0;34m(\u001b[0m\u001b[0mself\u001b[0m\u001b[0;34m[\u001b[0m\u001b[0;36m0\u001b[0m\u001b[0;34m]\u001b[0m\u001b[0;34m)\u001b[0m\u001b[0;34m\u001b[0m\u001b[0m\n\u001b[1;32m    378\u001b[0m         \u001b[0;32mfor\u001b[0m \u001b[0mcube\u001b[0m \u001b[0;32min\u001b[0m \u001b[0mself\u001b[0m\u001b[0;34m[\u001b[0m\u001b[0;36m1\u001b[0m\u001b[0;34m:\u001b[0m\u001b[0;34m]\u001b[0m\u001b[0;34m:\u001b[0m\u001b[0;34m\u001b[0m\u001b[0m\n\u001b[0;32m--> 379\u001b[0;31m             \u001b[0mproto_cube\u001b[0m\u001b[0;34m.\u001b[0m\u001b[0mregister\u001b[0m\u001b[0;34m(\u001b[0m\u001b[0mcube\u001b[0m\u001b[0;34m,\u001b[0m \u001b[0merror_on_mismatch\u001b[0m\u001b[0;34m=\u001b[0m\u001b[0;32mTrue\u001b[0m\u001b[0;34m)\u001b[0m\u001b[0;34m\u001b[0m\u001b[0m\n\u001b[0m\u001b[1;32m    380\u001b[0m \u001b[0;34m\u001b[0m\u001b[0m\n\u001b[1;32m    381\u001b[0m         \u001b[0;31m# Extract the merged cube from the ProtoCube.\u001b[0m\u001b[0;34m\u001b[0m\u001b[0;34m\u001b[0m\u001b[0m\n",
      "\u001b[0;32m~/miniconda3/envs/uvis_env/lib/python3.6/site-packages/iris/_merge.py\u001b[0m in \u001b[0;36mregister\u001b[0;34m(self, cube, error_on_mismatch)\u001b[0m\n\u001b[1;32m   1277\u001b[0m             \u001b[0mcoord_payload\u001b[0m \u001b[0;34m=\u001b[0m \u001b[0mself\u001b[0m\u001b[0;34m.\u001b[0m\u001b[0m_extract_coord_payload\u001b[0m\u001b[0;34m(\u001b[0m\u001b[0mcube\u001b[0m\u001b[0;34m)\u001b[0m\u001b[0;34m\u001b[0m\u001b[0m\n\u001b[1;32m   1278\u001b[0m             match = coord_payload.match_signature(self._coord_signature,\n\u001b[0;32m-> 1279\u001b[0;31m                                                   error_on_mismatch)\n\u001b[0m\u001b[1;32m   1280\u001b[0m         \u001b[0;32mif\u001b[0m \u001b[0mmatch\u001b[0m\u001b[0;34m:\u001b[0m\u001b[0;34m\u001b[0m\u001b[0m\n\u001b[1;32m   1281\u001b[0m             \u001b[0;31m# Register the cube as a source-cube for this ProtoCube.\u001b[0m\u001b[0;34m\u001b[0m\u001b[0;34m\u001b[0m\u001b[0m\n",
      "\u001b[0;32m~/miniconda3/envs/uvis_env/lib/python3.6/site-packages/iris/_merge.py\u001b[0m in \u001b[0;36mmatch_signature\u001b[0;34m(self, signature, error_on_mismatch)\u001b[0m\n\u001b[1;32m    275\u001b[0m         \u001b[0mmatch\u001b[0m \u001b[0;34m=\u001b[0m \u001b[0;32mnot\u001b[0m \u001b[0mbool\u001b[0m\u001b[0;34m(\u001b[0m\u001b[0mmsgs\u001b[0m\u001b[0;34m)\u001b[0m\u001b[0;34m\u001b[0m\u001b[0m\n\u001b[1;32m    276\u001b[0m         \u001b[0;32mif\u001b[0m \u001b[0merror_on_mismatch\u001b[0m \u001b[0;32mand\u001b[0m \u001b[0;32mnot\u001b[0m \u001b[0mmatch\u001b[0m\u001b[0;34m:\u001b[0m\u001b[0;34m\u001b[0m\u001b[0m\n\u001b[0;32m--> 277\u001b[0;31m             \u001b[0;32mraise\u001b[0m \u001b[0miris\u001b[0m\u001b[0;34m.\u001b[0m\u001b[0mexceptions\u001b[0m\u001b[0;34m.\u001b[0m\u001b[0mMergeError\u001b[0m\u001b[0;34m(\u001b[0m\u001b[0mmsgs\u001b[0m\u001b[0;34m)\u001b[0m\u001b[0;34m\u001b[0m\u001b[0m\n\u001b[0m\u001b[1;32m    278\u001b[0m         \u001b[0;32mreturn\u001b[0m \u001b[0mmatch\u001b[0m\u001b[0;34m\u001b[0m\u001b[0m\n\u001b[1;32m    279\u001b[0m \u001b[0;34m\u001b[0m\u001b[0m\n",
      "\u001b[0;31mMergeError\u001b[0m: failed to merge into a single cube.\n  Coordinates in cube.dim_coords differ: time."
     ]
    }
   ],
   "source": [
    "# Load u files\n",
    "uList = []\n",
    "for i in u_files[0:3]:\n",
    "    df = iris.load_cube(i)\n",
    "#     print(df.coord('time').units)\n",
    "#     print(df.coord('time').points)\n",
    "    uList.append(df)\n",
    "\n",
    "print(uList)\n",
    "u_cube_list = iris.cube.CubeList(uList)\n",
    "equalise_attributes(u_cube_list)\n",
    "# u = u_cube_list.merge_cube()\n",
    "\n",
    "# # Load v files\n",
    "# vList = []\n",
    "# for i in v_files[0:2]:\n",
    "#     print(i)\n",
    "#     df = iris.load_cube(i)\n",
    "#     vList.append(df)\n",
    "\n",
    "# v_cube_list = iris.cube.CubeList(vList)\n",
    "# v = v_cube_list.merge_cube()"
   ]
  },
  {
   "cell_type": "markdown",
   "metadata": {},
   "source": [
    "### Testing to try and combine cubes together"
   ]
  },
  {
   "cell_type": "code",
   "execution_count": 73,
   "metadata": {},
   "outputs": [
    {
     "name": "stdout",
     "output_type": "stream",
     "text": [
      "0: 4xDaily u-wind at 10 m / (m/s)      (time: 1460; latitude: 94; longitude: 192)\n",
      "1: 4xDaily u-wind at 10 m / (m/s)      (time: 1460; latitude: 94; longitude: 192)\n",
      "2: 4xDaily u-wind at 10 m / (m/s)      (time: 1460; latitude: 94; longitude: 192)\n",
      "hours since 1800-01-01 00:00:0.0 {'Conventions': 'COARDS', 'description': 'Data is from NMC initialized reanalysis\\n(4x/day).  It consists of T62 variables interpolated to\\npressure surfaces from model (sigma) surfaces.', 'platform': 'Model', 'References': 'http://www.esrl.noaa.gov/psd/data/gridded/data.ncep.reanalysis.html', 'dataset_title': 'NCEP-NCAR Reanalysis 1', 'GRIB_id': 33, 'GRIB_name': 'U GRD', 'dataset': 'NCEP Reanalysis', 'least_significant_digit': 1, 'level_desc': '10 m', 'parent_stat': 'Other', 'precision': 2, 'statistic': 'Individual Obs', 'valid_range': array([-102.2,  102.2], dtype=float32), 'var_desc': 'u-wind'}\n",
      "hours since 1800-01-01 00:00:0.0 {'Conventions': 'COARDS', 'description': 'Data is from NMC initialized reanalysis\\n(4x/day).  It consists of T62 variables interpolated to\\npressure surfaces from model (sigma) surfaces.', 'platform': 'Model', 'References': 'http://www.esrl.noaa.gov/psd/data/gridded/data.ncep.reanalysis.html', 'dataset_title': 'NCEP-NCAR Reanalysis 1', 'GRIB_id': 33, 'GRIB_name': 'U GRD', 'dataset': 'NCEP Reanalysis', 'least_significant_digit': 1, 'level_desc': '10 m', 'parent_stat': 'Other', 'precision': 2, 'statistic': 'Individual Obs', 'valid_range': array([-102.2,  102.2], dtype=float32), 'var_desc': 'u-wind'}\n"
     ]
    }
   ],
   "source": [
    "print(u_cube_list[0].coord('time'), u_cube_list[1].coord('time'))\n",
    "\n",
    "u_cube_list = iris.cube.CubeList(uList)\n",
    "\n",
    "# unify_time_units(u_cube_list)\n",
    "equalise_attributes(u_cube_list)\n",
    "# u = u_cube_list.concatenate_cube()\n",
    "\n",
    "\n",
    "print(u)\n",
    "print(u[0].coord('time').units, u[0].attributes)\n",
    "print(u[1].coord('time').units, u[1].attributes)\n",
    "# print(u[2].coord('time').units, u[2].attributes)"
   ]
  },
  {
   "cell_type": "markdown",
   "metadata": {},
   "source": [
    "## Calculate wind speed\n",
    "\n",
    "For a single year, calculate `s` which is wind speed, given by:\n",
    "\n",
    "$s = \\sqrt(u^2 + v^2)$"
   ]
  },
  {
   "cell_type": "code",
   "execution_count": 4,
   "metadata": {},
   "outputs": [],
   "source": [
    "u = iris.load_cube(u_files[0])\n",
    "v = iris.load_cube(v_files[0])\n",
    "\n",
    "# Have to load in data to do this (may take a while)\n",
    "v_dat = v.data\n",
    "u_dat = u.data\n",
    "s_dat = np.sqrt((v_dat * v_dat) + (u_dat * u_dat))\n",
    "\n",
    "# Put data in a cube, bit cheating but it works\n",
    "s = v.copy()\n",
    "s.data = s_dat"
   ]
  },
  {
   "cell_type": "markdown",
   "metadata": {},
   "source": [
    "#### Take the 4 measurements per day and find the maximum wind speed. Add day time coordinate"
   ]
  },
  {
   "cell_type": "code",
   "execution_count": 5,
   "metadata": {},
   "outputs": [],
   "source": [
    "# add_month, add_day_of_year, year\n",
    "iris.coord_categorisation.add_month(s, 'time', name='month')\n",
    "iris.coord_categorisation.add_day_of_year(s, 'time', name='day_of_year')\n",
    "iris.coord_categorisation.add_year(s, 'time', name='year')"
   ]
  },
  {
   "cell_type": "code",
   "execution_count": 15,
   "metadata": {},
   "outputs": [
    {
     "data": {
      "text/plain": [
       "DimCoord(array([1762305., 1763013., 1763721., 1764453., 1765185., 1765917.,\n",
       "       1766649., 1767393., 1768125., 1768857., 1769589., 1770321.]), bounds=array([[1761936., 1762674.],\n",
       "       [1762680., 1763346.],\n",
       "       [1763352., 1764090.],\n",
       "       [1764096., 1764810.],\n",
       "       [1764816., 1765554.],\n",
       "       [1765560., 1766274.],\n",
       "       [1766280., 1767018.],\n",
       "       [1767024., 1767762.],\n",
       "       [1767768., 1768482.],\n",
       "       [1768488., 1769226.],\n",
       "       [1769232., 1769946.],\n",
       "       [1769952., 1770690.]]), standard_name='time', units=Unit('hours since 1800-01-01 00:00:0.0', calendar='gregorian'), long_name='Time', var_name='time', attributes={'actual_range': array([1761936., 1770690.]), 'delta_t': '0000-00-00 06:00:00'})"
      ]
     },
     "execution_count": 15,
     "metadata": {},
     "output_type": "execute_result"
    }
   ],
   "source": [
    "test = s.aggregated_by(['day_of_year'], iris.analysis.MAX)\n",
    "swnd = test.aggregated_by(['month'], iris.analysis.MEAN) # test.aggregated_by(['month', 'year'], iris.analysis.MEAN)"
   ]
  },
  {
   "cell_type": "markdown",
   "metadata": {},
   "source": [
    "### Save outputs"
   ]
  },
  {
   "cell_type": "code",
   "execution_count": 94,
   "metadata": {},
   "outputs": [
    {
     "name": "stdout",
     "output_type": "stream",
     "text": [
      "../data/aus_wind/swnd.10m.gauss.2001-2009.nc\n"
     ]
    }
   ],
   "source": [
    "out = path_out + outfile + str(years[0]) + '-' + str(years[len(years) -1]) + '.nc'\n",
    "print(out)\n",
    "# iris.save(swnd, out)"
   ]
  }
 ],
 "metadata": {
  "kernelspec": {
   "display_name": "Python 3",
   "language": "python",
   "name": "python3"
  },
  "language_info": {
   "codemirror_mode": {
    "name": "ipython",
    "version": 3
   },
   "file_extension": ".py",
   "mimetype": "text/x-python",
   "name": "python",
   "nbconvert_exporter": "python",
   "pygments_lexer": "ipython3",
   "version": "3.6.6"
  }
 },
 "nbformat": 4,
 "nbformat_minor": 4
}
