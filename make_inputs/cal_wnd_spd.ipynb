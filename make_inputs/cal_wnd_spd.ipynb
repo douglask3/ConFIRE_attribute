{
 "cells": [
  {
   "cell_type": "markdown",
   "metadata": {},
   "source": [
    "Combine u and v wind files"
   ]
  },
  {
   "cell_type": "code",
   "execution_count": 2,
   "metadata": {},
   "outputs": [
    {
     "name": "stdout",
     "output_type": "stream",
     "text": [
      "The autoreload extension is already loaded. To reload it, use:\n",
      "  %reload_ext autoreload\n"
     ]
    }
   ],
   "source": [
    "# Libraries\n",
    "%load_ext autoreload\n",
    "%autoreload\n",
    "\n",
    "\n",
    "import numpy as np\n",
    "import iris\n",
    "import iris.coord_categorisation\n",
    "# import pandas as pd\n",
    "\n",
    "import glob\n",
    "import sys\n",
    "sys.path.append('../')\n",
    "from libs.plot_maps import *\n",
    "\n",
    "\n",
    "import warnings\n",
    "warnings.filterwarnings('ignore')\n",
    "import matplotlib.pyplot as plt\n",
    "import numpy.ma as ma\n",
    "%matplotlib inline\n",
    "import cartopy.crs as ccrs"
   ]
  },
  {
   "cell_type": "code",
   "execution_count": 3,
   "metadata": {},
   "outputs": [
    {
     "name": "stdout",
     "output_type": "stream",
     "text": [
      "../data/aus_wind/uwnd.10m.gauss.2001.nc../data/aus_wind/vwnd.10m.gauss.2001.nc\n"
     ]
    }
   ],
   "source": [
    "path     = '../data/aus_wind/'\n",
    "\n",
    "# Extracts all the files in that folder\n",
    "u_files = glob.glob(path + 'uwnd*.nc') # use 'recursive = True' to include subdirectories\n",
    "u_files = sorted(u_files) # sort alphabetically\n",
    "v_files = glob.glob(path + 'vwnd*.nc') \n",
    "print(u_files[0] + v_files[0])"
   ]
  },
  {
   "cell_type": "markdown",
   "metadata": {},
   "source": [
    "### Calculate wind speed\n",
    "\n",
    "For a single year, calculate `s` which is wind speed, given by:\n",
    "\n",
    "$s = \\sqrt(u^2 + v^2)$"
   ]
  },
  {
   "cell_type": "code",
   "execution_count": null,
   "metadata": {},
   "outputs": [],
   "source": [
    "u = iris.load_cube(u_files[0])\n",
    "v = iris.load_cube(v_files[0])\n",
    "\n",
    "v_dat = v.data()\n",
    "v_dat = v.data()\n",
    "\n",
    "# s = np.sqrt((v**v) + (u**u))"
   ]
  },
  {
   "cell_type": "markdown",
   "metadata": {},
   "source": [
    "Take the 4 measurements per day and find the maximum wind speed"
   ]
  },
  {
   "cell_type": "code",
   "execution_count": null,
   "metadata": {},
   "outputs": [],
   "source": []
  }
 ],
 "metadata": {
  "kernelspec": {
   "display_name": "Python 3",
   "language": "python",
   "name": "python3"
  },
  "language_info": {
   "codemirror_mode": {
    "name": "ipython",
    "version": 3
   },
   "file_extension": ".py",
   "mimetype": "text/x-python",
   "name": "python",
   "nbconvert_exporter": "python",
   "pygments_lexer": "ipython3",
   "version": "3.6.6"
  }
 },
 "nbformat": 4,
 "nbformat_minor": 4
}
