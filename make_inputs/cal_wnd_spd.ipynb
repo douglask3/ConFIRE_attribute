{
 "cells": [
  {
   "cell_type": "markdown",
   "metadata": {},
   "source": [
    "Combine u and v wind files"
   ]
  },
  {
   "cell_type": "code",
   "execution_count": 84,
   "metadata": {},
   "outputs": [
    {
     "name": "stdout",
     "output_type": "stream",
     "text": [
      "The autoreload extension is already loaded. To reload it, use:\n",
      "  %reload_ext autoreload\n"
     ]
    }
   ],
   "source": [
    "# Libraries\n",
    "%load_ext autoreload\n",
    "%autoreload\n",
    "\n",
    "\n",
    "import numpy as np\n",
    "import iris\n",
    "import iris.coord_categorisation\n",
    "from iris.util import unify_time_units\n",
    "from iris.experimental.equalise_cubes import equalise_attributes\n",
    "# import pandas as pd\n",
    "\n",
    "import glob\n",
    "import sys\n",
    "sys.path.append('../')\n",
    "from libs.plot_maps import *\n",
    "\n",
    "\n",
    "import warnings\n",
    "warnings.filterwarnings('ignore')\n",
    "import matplotlib.pyplot as plt\n",
    "import numpy.ma as ma\n",
    "%matplotlib inline\n",
    "import cartopy.crs as ccrs"
   ]
  },
  {
   "cell_type": "code",
   "execution_count": 2,
   "metadata": {},
   "outputs": [
    {
     "name": "stdout",
     "output_type": "stream",
     "text": [
      "../data/aus_wind/uwnd.10m.gauss.2001.nc../data/aus_wind/vwnd.10m.gauss.2001.nc\n"
     ]
    }
   ],
   "source": [
    "path     = '../data/aus_wind/'\n",
    "\n",
    "# Extracts all the files in that folder\n",
    "u_files = glob.glob(path + 'uwnd*.nc') # use 'recursive = True' to include subdirectories\n",
    "u_files = sorted(u_files) # sort alphabetically\n",
    "\n",
    "v_files = glob.glob(path + 'vwnd*.nc') \n",
    "print(u_files[0] + v_files[0])"
   ]
  },
  {
   "cell_type": "markdown",
   "metadata": {},
   "source": [
    "Concatenate all u files together and all v files together"
   ]
  },
  {
   "cell_type": "code",
   "execution_count": 64,
   "metadata": {},
   "outputs": [
    {
     "name": "stdout",
     "output_type": "stream",
     "text": [
      "[<iris 'Cube' of 4xDaily u-wind at 10 m / (m/s) (time: 1460; latitude: 94; longitude: 192)>]\n",
      "[<iris 'Cube' of 4xDaily u-wind at 10 m / (m/s) (time: 1460; latitude: 94; longitude: 192)>, <iris 'Cube' of 4xDaily u-wind at 10 m / (m/s) (time: 1460; latitude: 94; longitude: 192)>]\n",
      "[<iris 'Cube' of 4xDaily u-wind at 10 m / (m/s) (time: 1460; latitude: 94; longitude: 192)>, <iris 'Cube' of 4xDaily u-wind at 10 m / (m/s) (time: 1460; latitude: 94; longitude: 192)>, <iris 'Cube' of 4xDaily u-wind at 10 m / (m/s) (time: 1460; latitude: 94; longitude: 192)>]\n"
     ]
    }
   ],
   "source": [
    "# Load u files\n",
    "uList = []\n",
    "for i in u_files[0:3]:\n",
    "    df = iris.load_cube(i)\n",
    "#     print(df.coord('time').units)\n",
    "#     print(df.coord('time').points)\n",
    "    uList.append(df)\n",
    "    print(uList)\n",
    "\n",
    "# print(uList)\n",
    "# u_cube_list = iris.cube.CubeList(uList)\n",
    "# u = u_cube_list.concatenate_cube()\n",
    "\n",
    "# # Load v files\n",
    "# vList = []\n",
    "# for i in v_files[0:2]:\n",
    "#     print(i)\n",
    "#     df = iris.load_cube(i)\n",
    "#     vList.append(df)\n",
    "\n",
    "# v_cube_list = iris.cube.CubeList(vList)\n",
    "# v = v_cube_list.concatenate_cube()"
   ]
  },
  {
   "cell_type": "code",
   "execution_count": 85,
   "metadata": {},
   "outputs": [
    {
     "ename": "ConcatenateError",
     "evalue": "failed to concatenate into a single cube.\n  Dimension coordinates metadata differ: time != time",
     "output_type": "error",
     "traceback": [
      "\u001b[0;31m---------------------------------------------------------------------------\u001b[0m",
      "\u001b[0;31mConcatenateError\u001b[0m                          Traceback (most recent call last)",
      "\u001b[0;32m<ipython-input-85-34689a9f2fba>\u001b[0m in \u001b[0;36m<module>\u001b[0;34m\u001b[0m\n\u001b[1;32m      3\u001b[0m \u001b[0munify_time_units\u001b[0m\u001b[0;34m(\u001b[0m\u001b[0mu_cube_list\u001b[0m\u001b[0;34m)\u001b[0m\u001b[0;34m\u001b[0m\u001b[0m\n\u001b[1;32m      4\u001b[0m \u001b[0mequalise_attributes\u001b[0m\u001b[0;34m(\u001b[0m\u001b[0mu_cube_list\u001b[0m\u001b[0;34m)\u001b[0m\u001b[0;34m\u001b[0m\u001b[0m\n\u001b[0;32m----> 5\u001b[0;31m \u001b[0mu\u001b[0m \u001b[0;34m=\u001b[0m \u001b[0mu_cube_list\u001b[0m\u001b[0;34m.\u001b[0m\u001b[0mconcatenate_cube\u001b[0m\u001b[0;34m(\u001b[0m\u001b[0;34m)\u001b[0m\u001b[0;34m\u001b[0m\u001b[0m\n\u001b[0m\u001b[1;32m      6\u001b[0m \u001b[0;34m\u001b[0m\u001b[0m\n\u001b[1;32m      7\u001b[0m \u001b[0;34m\u001b[0m\u001b[0m\n",
      "\u001b[0;32m~/miniconda3/envs/uvis_env/lib/python3.6/site-packages/iris/cube.py\u001b[0m in \u001b[0;36mconcatenate_cube\u001b[0;34m(self, check_aux_coords)\u001b[0m\n\u001b[1;32m    500\u001b[0m             res = iris._concatenate.concatenate(\n\u001b[1;32m    501\u001b[0m                 \u001b[0mself\u001b[0m\u001b[0;34m,\u001b[0m \u001b[0merror_on_mismatch\u001b[0m\u001b[0;34m=\u001b[0m\u001b[0;32mTrue\u001b[0m\u001b[0;34m,\u001b[0m\u001b[0;34m\u001b[0m\u001b[0m\n\u001b[0;32m--> 502\u001b[0;31m                 check_aux_coords=check_aux_coords)\n\u001b[0m\u001b[1;32m    503\u001b[0m             \u001b[0mn_res_cubes\u001b[0m \u001b[0;34m=\u001b[0m \u001b[0mlen\u001b[0m\u001b[0;34m(\u001b[0m\u001b[0mres\u001b[0m\u001b[0;34m)\u001b[0m\u001b[0;34m\u001b[0m\u001b[0m\n\u001b[1;32m    504\u001b[0m             \u001b[0;32mif\u001b[0m \u001b[0mn_res_cubes\u001b[0m \u001b[0;34m==\u001b[0m \u001b[0;36m1\u001b[0m\u001b[0;34m:\u001b[0m\u001b[0;34m\u001b[0m\u001b[0m\n",
      "\u001b[0;32m~/miniconda3/envs/uvis_env/lib/python3.6/site-packages/iris/_concatenate.py\u001b[0m in \u001b[0;36mconcatenate\u001b[0;34m(cubes, error_on_mismatch, check_aux_coords)\u001b[0m\n\u001b[1;32m    270\u001b[0m         \u001b[0;32mfor\u001b[0m \u001b[0mproto_cube\u001b[0m \u001b[0;32min\u001b[0m \u001b[0mproto_cubes\u001b[0m\u001b[0;34m:\u001b[0m\u001b[0;34m\u001b[0m\u001b[0m\n\u001b[1;32m    271\u001b[0m             registered = proto_cube.register(cube, axis, error_on_mismatch,\n\u001b[0;32m--> 272\u001b[0;31m                                              check_aux_coords)\n\u001b[0m\u001b[1;32m    273\u001b[0m             \u001b[0;32mif\u001b[0m \u001b[0mregistered\u001b[0m\u001b[0;34m:\u001b[0m\u001b[0;34m\u001b[0m\u001b[0m\n\u001b[1;32m    274\u001b[0m                 \u001b[0maxis\u001b[0m \u001b[0;34m=\u001b[0m \u001b[0mproto_cube\u001b[0m\u001b[0;34m.\u001b[0m\u001b[0maxis\u001b[0m\u001b[0;34m\u001b[0m\u001b[0m\n",
      "\u001b[0;32m~/miniconda3/envs/uvis_env/lib/python3.6/site-packages/iris/_concatenate.py\u001b[0m in \u001b[0;36mregister\u001b[0;34m(self, cube, axis, error_on_mismatch, check_aux_coords)\u001b[0m\n\u001b[1;32m    716\u001b[0m         \u001b[0;31m# Check for compatible cube signatures.\u001b[0m\u001b[0;34m\u001b[0m\u001b[0;34m\u001b[0m\u001b[0m\n\u001b[1;32m    717\u001b[0m         \u001b[0mcube_signature\u001b[0m \u001b[0;34m=\u001b[0m \u001b[0m_CubeSignature\u001b[0m\u001b[0;34m(\u001b[0m\u001b[0mcube\u001b[0m\u001b[0;34m)\u001b[0m\u001b[0;34m\u001b[0m\u001b[0m\n\u001b[0;32m--> 718\u001b[0;31m         \u001b[0mmatch\u001b[0m \u001b[0;34m=\u001b[0m \u001b[0mself\u001b[0m\u001b[0;34m.\u001b[0m\u001b[0m_cube_signature\u001b[0m\u001b[0;34m.\u001b[0m\u001b[0mmatch\u001b[0m\u001b[0;34m(\u001b[0m\u001b[0mcube_signature\u001b[0m\u001b[0;34m,\u001b[0m \u001b[0merror_on_mismatch\u001b[0m\u001b[0;34m)\u001b[0m\u001b[0;34m\u001b[0m\u001b[0m\n\u001b[0m\u001b[1;32m    719\u001b[0m \u001b[0;34m\u001b[0m\u001b[0m\n\u001b[1;32m    720\u001b[0m         \u001b[0;31m# Check for compatible coordinate signatures.\u001b[0m\u001b[0;34m\u001b[0m\u001b[0;34m\u001b[0m\u001b[0m\n",
      "\u001b[0;32m~/miniconda3/envs/uvis_env/lib/python3.6/site-packages/iris/_concatenate.py\u001b[0m in \u001b[0;36mmatch\u001b[0;34m(self, other, error_on_mismatch)\u001b[0m\n\u001b[1;32m    474\u001b[0m         \u001b[0mmatch\u001b[0m \u001b[0;34m=\u001b[0m \u001b[0;32mnot\u001b[0m \u001b[0mbool\u001b[0m\u001b[0;34m(\u001b[0m\u001b[0mmsgs\u001b[0m\u001b[0;34m)\u001b[0m\u001b[0;34m\u001b[0m\u001b[0m\n\u001b[1;32m    475\u001b[0m         \u001b[0;32mif\u001b[0m \u001b[0merror_on_mismatch\u001b[0m \u001b[0;32mand\u001b[0m \u001b[0;32mnot\u001b[0m \u001b[0mmatch\u001b[0m\u001b[0;34m:\u001b[0m\u001b[0;34m\u001b[0m\u001b[0m\n\u001b[0;32m--> 476\u001b[0;31m             \u001b[0;32mraise\u001b[0m \u001b[0miris\u001b[0m\u001b[0;34m.\u001b[0m\u001b[0mexceptions\u001b[0m\u001b[0;34m.\u001b[0m\u001b[0mConcatenateError\u001b[0m\u001b[0;34m(\u001b[0m\u001b[0mmsgs\u001b[0m\u001b[0;34m)\u001b[0m\u001b[0;34m\u001b[0m\u001b[0m\n\u001b[0m\u001b[1;32m    477\u001b[0m         \u001b[0;32mreturn\u001b[0m \u001b[0mmatch\u001b[0m\u001b[0;34m\u001b[0m\u001b[0m\n\u001b[1;32m    478\u001b[0m \u001b[0;34m\u001b[0m\u001b[0m\n",
      "\u001b[0;31mConcatenateError\u001b[0m: failed to concatenate into a single cube.\n  Dimension coordinates metadata differ: time != time"
     ]
    }
   ],
   "source": [
    "u_cube_list = iris.cube.CubeList(uList)\n",
    "\n",
    "unify_time_units(u_cube_list)\n",
    "equalise_attributes(u_cube_list)\n",
    "u = u_cube_list.concatenate_cube()\n",
    "\n",
    "\n",
    "\n",
    "# print(u)\n",
    "# print(u[0].coord('time').units, u[0].attributes)\n",
    "# print(u[1].coord('time').units, u[1].attributes)\n",
    "# print(u[2].coord('time').units, u[2].attributes)"
   ]
  },
  {
   "cell_type": "code",
   "execution_count": 25,
   "metadata": {},
   "outputs": [
    {
     "name": "stdout",
     "output_type": "stream",
     "text": [
      "0: 4xDaily u-wind at 10 m / (m/s)      (time: 1460; latitude: 94; longitude: 192)\n",
      "1: 4xDaily u-wind at 10 m / (m/s)      (time: 1460; latitude: 94; longitude: 192) 0: 4xDaily v-wind at 10 m / (m/s)      (time: 1460; latitude: 94; longitude: 192)\n",
      "1: 4xDaily v-wind at 10 m / (m/s)      (time: 1460; latitude: 94; longitude: 192)\n"
     ]
    }
   ],
   "source": [
    "print(u)"
   ]
  },
  {
   "cell_type": "markdown",
   "metadata": {},
   "source": [
    "### Calculate wind speed\n",
    "\n",
    "For a single year, calculate `s` which is wind speed, given by:\n",
    "\n",
    "$s = \\sqrt(u^2 + v^2)$"
   ]
  },
  {
   "cell_type": "code",
   "execution_count": 26,
   "metadata": {},
   "outputs": [
    {
     "ename": "AttributeError",
     "evalue": "'CubeList' object has no attribute 'data'",
     "output_type": "error",
     "traceback": [
      "\u001b[0;31m---------------------------------------------------------------------------\u001b[0m",
      "\u001b[0;31mAttributeError\u001b[0m                            Traceback (most recent call last)",
      "\u001b[0;32m<ipython-input-26-6e12105d59ab>\u001b[0m in \u001b[0;36m<module>\u001b[0;34m\u001b[0m\n\u001b[1;32m      3\u001b[0m \u001b[0;34m\u001b[0m\u001b[0m\n\u001b[1;32m      4\u001b[0m \u001b[0;31m# Have to load in data to do this (may take a while)\u001b[0m\u001b[0;34m\u001b[0m\u001b[0;34m\u001b[0m\u001b[0m\n\u001b[0;32m----> 5\u001b[0;31m \u001b[0mv_dat\u001b[0m \u001b[0;34m=\u001b[0m \u001b[0mv\u001b[0m\u001b[0;34m.\u001b[0m\u001b[0mdata\u001b[0m\u001b[0;34m\u001b[0m\u001b[0m\n\u001b[0m\u001b[1;32m      6\u001b[0m \u001b[0mu_dat\u001b[0m \u001b[0;34m=\u001b[0m \u001b[0mu\u001b[0m\u001b[0;34m.\u001b[0m\u001b[0mdata\u001b[0m\u001b[0;34m\u001b[0m\u001b[0m\n\u001b[1;32m      7\u001b[0m \u001b[0ms_dat\u001b[0m \u001b[0;34m=\u001b[0m \u001b[0mnp\u001b[0m\u001b[0;34m.\u001b[0m\u001b[0msqrt\u001b[0m\u001b[0;34m(\u001b[0m\u001b[0;34m(\u001b[0m\u001b[0mv_dat\u001b[0m \u001b[0;34m*\u001b[0m \u001b[0mv_dat\u001b[0m\u001b[0;34m)\u001b[0m \u001b[0;34m+\u001b[0m \u001b[0;34m(\u001b[0m\u001b[0mu_dat\u001b[0m \u001b[0;34m*\u001b[0m \u001b[0mu_dat\u001b[0m\u001b[0;34m)\u001b[0m\u001b[0;34m)\u001b[0m\u001b[0;34m\u001b[0m\u001b[0m\n",
      "\u001b[0;31mAttributeError\u001b[0m: 'CubeList' object has no attribute 'data'"
     ]
    }
   ],
   "source": [
    "# u = iris.load_cube(u_files[0])\n",
    "# v = iris.load_cube(v_files[0])\n",
    "\n",
    "# Have to load in data to do this (may take a while)\n",
    "v_dat = v.data\n",
    "u_dat = u.data\n",
    "s_dat = np.sqrt((v_dat * v_dat) + (u_dat * u_dat))\n",
    "\n",
    "# Put data in a cube, bit cheating but it works\n",
    "s = v.copy()\n",
    "s.data = s_dat"
   ]
  },
  {
   "cell_type": "markdown",
   "metadata": {},
   "source": [
    "Take the 4 measurements per day and find the maximum wind speed. Add day time coordinate"
   ]
  },
  {
   "cell_type": "code",
   "execution_count": 4,
   "metadata": {},
   "outputs": [],
   "source": [
    "# add_month, add_day_of_year, year\n",
    "\n",
    "iris.coord_categorisation.add_month(s, 'time', name='month')\n",
    "iris.coord_categorisation.add_day_of_year(s, 'time', name='day_of_year')\n",
    "iris.coord_categorisation.add_year(s, 'time', name='year')"
   ]
  },
  {
   "cell_type": "code",
   "execution_count": 10,
   "metadata": {},
   "outputs": [
    {
     "name": "stdout",
     "output_type": "stream",
     "text": [
      "[  1   2   3   4   5   6   7   8   9  10  11  12  13  14  15  16  17  18\n",
      "  19  20  21  22  23  24  25  26  27  28  29  30  31  32  33  34  35  36\n",
      "  37  38  39  40  41  42  43  44  45  46  47  48  49  50  51  52  53  54\n",
      "  55  56  57  58  59  60  61  62  63  64  65  66  67  68  69  70  71  72\n",
      "  73  74  75  76  77  78  79  80  81  82  83  84  85  86  87  88  89  90\n",
      "  91  92  93  94  95  96  97  98  99 100 101 102 103 104 105 106 107 108\n",
      " 109 110 111 112 113 114 115 116 117 118 119 120 121 122 123 124 125 126\n",
      " 127 128 129 130 131 132 133 134 135 136 137 138 139 140 141 142 143 144\n",
      " 145 146 147 148 149 150 151 152 153 154 155 156 157 158 159 160 161 162\n",
      " 163 164 165 166 167 168 169 170 171 172 173 174 175 176 177 178 179 180\n",
      " 181 182 183 184 185 186 187 188 189 190 191 192 193 194 195 196 197 198\n",
      " 199 200 201 202 203 204 205 206 207 208 209 210 211 212 213 214 215 216\n",
      " 217 218 219 220 221 222 223 224 225 226 227 228 229 230 231 232 233 234\n",
      " 235 236 237 238 239 240 241 242 243 244 245 246 247 248 249 250 251 252\n",
      " 253 254 255 256 257 258 259 260 261 262 263 264 265 266 267 268 269 270\n",
      " 271 272 273 274 275 276 277 278 279 280 281 282 283 284 285 286 287 288\n",
      " 289 290 291 292 293 294 295 296 297 298 299 300 301 302 303 304 305 306\n",
      " 307 308 309 310 311 312 313 314 315 316 317 318 319 320 321 322 323 324\n",
      " 325 326 327 328 329 330 331 332 333 334 335 336 337 338 339 340 341 342\n",
      " 343 344 345 346 347 348 349 350 351 352 353 354 355 356 357 358 359 360\n",
      " 361 362 363 364 365]\n",
      "[  1   1   1 ... 365 365 365]\n"
     ]
    }
   ],
   "source": [
    "test = s.aggregated_by(['day_of_year'], iris.analysis.MAX)\n",
    "\n",
    "for y in year:\n",
    "    for d in day:\n",
    "        if s.coord.day == d:\n",
    "            s_daily_max = s.collapsed('day', iris.analysis.MAX)"
   ]
  },
  {
   "cell_type": "code",
   "execution_count": 8,
   "metadata": {},
   "outputs": [
    {
     "name": "stdout",
     "output_type": "stream",
     "text": [
      "4xDaily v-wind at 10 m / (m/s)      (time: 365; latitude: 94; longitude: 192)\n",
      "     Dimension coordinates:\n",
      "          time                           x              -              -\n",
      "          latitude                       -              x              -\n",
      "          longitude                      -              -              x\n",
      "     Auxiliary coordinates:\n",
      "          day_of_year                    x              -              -\n",
      "          month                          x              -              -\n",
      "     Attributes:\n",
      "          Conventions: COARDS\n",
      "          GRIB_id: 34\n",
      "          GRIB_name: V GRD\n",
      "          References: http://www.esrl.noaa.gov/psd/data/gridded/data.ncep.reanalysis.html\n",
      "          actual_range: [-30.199997  28.699997]\n",
      "          dataset: NCEP Reanalysis\n",
      "          dataset_title: NCEP-NCAR Reanalysis 1\n",
      "          description: Data is from NMC initialized reanalysis\n",
      "(4x/day).  It consists of T62 variables...\n",
      "          history: created 00/12/18 by Hoop (netCDF2.3)\n",
      "Converted to chunked, deflated non-packed...\n",
      "          least_significant_digit: 1\n",
      "          level_desc: 10 m\n",
      "          parent_stat: Other\n",
      "          platform: Model\n",
      "          precision: 2\n",
      "          statistic: Individual Obs\n",
      "          title: 4x daily NMC reanalysis (2001)\n",
      "          valid_range: [-102.2  102.2]\n",
      "          var_desc: v-wind\n",
      "     Cell methods:\n",
      "          maximum: day_of_year, month 4xDaily v-wind at 10 m / (m/s)      (time: 1460; latitude: 94; longitude: 192)\n",
      "     Dimension coordinates:\n",
      "          time                           x               -              -\n",
      "          latitude                       -               x              -\n",
      "          longitude                      -               -              x\n",
      "     Auxiliary coordinates:\n",
      "          day_of_year                    x               -              -\n",
      "          month                          x               -              -\n",
      "     Attributes:\n",
      "          Conventions: COARDS\n",
      "          GRIB_id: 34\n",
      "          GRIB_name: V GRD\n",
      "          References: http://www.esrl.noaa.gov/psd/data/gridded/data.ncep.reanalysis.html\n",
      "          actual_range: [-30.199997  28.699997]\n",
      "          dataset: NCEP Reanalysis\n",
      "          dataset_title: NCEP-NCAR Reanalysis 1\n",
      "          description: Data is from NMC initialized reanalysis\n",
      "(4x/day).  It consists of T62 variables...\n",
      "          history: created 00/12/18 by Hoop (netCDF2.3)\n",
      "Converted to chunked, deflated non-packed...\n",
      "          least_significant_digit: 1\n",
      "          level_desc: 10 m\n",
      "          parent_stat: Other\n",
      "          platform: Model\n",
      "          precision: 2\n",
      "          statistic: Individual Obs\n",
      "          title: 4x daily NMC reanalysis (2001)\n",
      "          valid_range: [-102.2  102.2]\n",
      "          var_desc: v-wind\n"
     ]
    }
   ],
   "source": [
    "print(test, s)"
   ]
  },
  {
   "cell_type": "code",
   "execution_count": null,
   "metadata": {},
   "outputs": [],
   "source": []
  }
 ],
 "metadata": {
  "kernelspec": {
   "display_name": "Python 3",
   "language": "python",
   "name": "python3"
  },
  "language_info": {
   "codemirror_mode": {
    "name": "ipython",
    "version": 3
   },
   "file_extension": ".py",
   "mimetype": "text/x-python",
   "name": "python",
   "nbconvert_exporter": "python",
   "pygments_lexer": "ipython3",
   "version": "3.6.6"
  }
 },
 "nbformat": 4,
 "nbformat_minor": 4
}
