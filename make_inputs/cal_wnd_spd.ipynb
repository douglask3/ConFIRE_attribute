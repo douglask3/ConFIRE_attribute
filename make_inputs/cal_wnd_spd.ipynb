{
 "cells": [
  {
   "cell_type": "markdown",
   "metadata": {},
   "source": [
    "# Combine u and v wind files"
   ]
  },
  {
   "cell_type": "code",
   "execution_count": 1,
   "metadata": {
    "collapsed": true,
    "jupyter": {
     "outputs_hidden": true
    }
   },
   "outputs": [
    {
     "name": "stderr",
     "output_type": "stream",
     "text": [
      "/home/meganbrown/miniconda3/envs/uvis_env/lib/python3.6/site-packages/dask/config.py:131: YAMLLoadWarning: calling yaml.load() without Loader=... is deprecated, as the default Loader is unsafe. Please read https://msg.pyyaml.org/load for full details.\n",
      "  data = yaml.load(f.read()) or {}\n"
     ]
    }
   ],
   "source": [
    "# Libraries\n",
    "%load_ext autoreload\n",
    "%autoreload\n",
    "\n",
    "\n",
    "import numpy as np\n",
    "import iris\n",
    "import iris.coord_categorisation\n",
    "from iris.util import unify_time_units\n",
    "from iris.experimental.equalise_cubes import equalise_attributes\n",
    "import iris.quickplot as qplt\n",
    "# import pandas as pd\n",
    "\n",
    "import glob\n",
    "import sys\n",
    "sys.path.append('../')\n",
    "from libs.plot_maps import *\n",
    "\n",
    "\n",
    "import warnings\n",
    "warnings.filterwarnings('ignore')\n",
    "import matplotlib.pyplot as plt\n",
    "import numpy.ma as ma\n",
    "%matplotlib inline\n",
    "import cartopy.crs as ccrs"
   ]
  },
  {
   "cell_type": "markdown",
   "metadata": {},
   "source": [
    "### Extracting files\n",
    "Set year range of interest. Note the v and u files must be in the same directory. If you want all files in the directory, use the code commented out (it's much faster!)."
   ]
  },
  {
   "cell_type": "code",
   "execution_count": 4,
   "metadata": {
    "collapsed": true,
    "jupyter": {
     "outputs_hidden": true
    }
   },
   "outputs": [
    {
     "name": "stdout",
     "output_type": "stream",
     "text": [
      "['../data/aus_wind/uwnd.10m.gauss.2001.nc', '../data/aus_wind/uwnd.10m.gauss.2002.nc', '../data/aus_wind/uwnd.10m.gauss.2003.nc', '../data/aus_wind/uwnd.10m.gauss.2004.nc', '../data/aus_wind/uwnd.10m.gauss.2005.nc', '../data/aus_wind/uwnd.10m.gauss.2006.nc', '../data/aus_wind/uwnd.10m.gauss.2007.nc', '../data/aus_wind/uwnd.10m.gauss.2008.nc', '../data/aus_wind/uwnd.10m.gauss.2009.nc']\n"
     ]
    }
   ],
   "source": [
    "path     = '../data/aus_wind/'\n",
    "path_out = '../data/aus_wind/'\n",
    "outfile = 'swnd.10m.gauss.'\n",
    "\n",
    "# Chooses year range you want\n",
    "years = range(2001, 2010)\n",
    "u_files = []\n",
    "v_files = []\n",
    "for year in years:\n",
    "    u_files.append(path + 'uwnd.10m.gauss.' + str(year) + '.nc')\n",
    "    v_files.append(path + 'vwnd.10m.gauss.' + str(year) + '.nc')\n",
    "\n",
    "\n",
    "### For all u and v files\n",
    "# u_files = glob.glob(path + 'u*.nc') # use 'recursive = True' to include subdirectories\n",
    "# u_files = sorted(u_files) # sort alphabetically\n",
    "# v_files = glob.glob(path + 'v*.nc') \n",
    "\n",
    "# Checking file names\n",
    "print(u_files[0] + v_files[0])"
   ]
  },
  {
   "cell_type": "code",
   "execution_count": 26,
   "metadata": {},
   "outputs": [],
   "source": [
    "# For regridding\n",
    "path_mask = '../data/climate/'\n",
    "file_mask = 'climate_mask.nc'\n",
    "\n",
    "mask1 = iris.load_cube(path_mask + file_mask)\n",
    "# mask = mask.collapsed('time', iris.analysis.MEAN)"
   ]
  },
  {
   "cell_type": "markdown",
   "metadata": {},
   "source": [
    "### Load in u and v files into separate cubelists"
   ]
  },
  {
   "cell_type": "code",
   "execution_count": 16,
   "metadata": {},
   "outputs": [
    {
     "name": "stdout",
     "output_type": "stream",
     "text": [
      "[<iris 'Cube' of 4xDaily u-wind at 10 m / (m/s) (time: 1460; latitude: 94; longitude: 192)>, <iris 'Cube' of 4xDaily u-wind at 10 m / (m/s) (time: 1460; latitude: 94; longitude: 192)>, <iris 'Cube' of 4xDaily u-wind at 10 m / (m/s) (time: 1460; latitude: 94; longitude: 192)>]\n"
     ]
    }
   ],
   "source": [
    "# Load u files\n",
    "uList = []\n",
    "for i in u_files[0:3]:\n",
    "    df = iris.load_cube(i)\n",
    "#     print(df.coord('time').units)\n",
    "#     print(df.coord('time').points)\n",
    "    uList.append(df)\n",
    "\n",
    "print(uList)\n",
    "u_cube_list = iris.cube.CubeList(uList)\n",
    "\n",
    "# # Load v files\n",
    "# vList = []\n",
    "# for i in v_files[0:2]:\n",
    "#     print(i)\n",
    "#     df = iris.load_cube(i)\n",
    "#     vList.append(df)"
   ]
  },
  {
   "cell_type": "code",
   "execution_count": 27,
   "metadata": {},
   "outputs": [
    {
     "ename": "ValueError",
     "evalue": "The horizontal grid coordinates of both the source and grid cubes must have contiguous bounds.",
     "output_type": "error",
     "traceback": [
      "\u001b[0;31m---------------------------------------------------------------------------\u001b[0m",
      "\u001b[0;31mValueError\u001b[0m                                Traceback (most recent call last)",
      "\u001b[0;32m<ipython-input-27-9c95bfe030df>\u001b[0m in \u001b[0;36m<module>\u001b[0;34m\u001b[0m\n\u001b[1;32m      1\u001b[0m \u001b[0;34m\u001b[0m\u001b[0m\n\u001b[1;32m      2\u001b[0m \u001b[0;34m\u001b[0m\u001b[0m\n\u001b[0;32m----> 3\u001b[0;31m \u001b[0mdat1_regrid\u001b[0m \u001b[0;34m=\u001b[0m \u001b[0mu_cube_list\u001b[0m\u001b[0;34m[\u001b[0m\u001b[0;36m1\u001b[0m\u001b[0;34m]\u001b[0m\u001b[0;34m.\u001b[0m\u001b[0mregrid\u001b[0m\u001b[0;34m(\u001b[0m\u001b[0mmask1\u001b[0m\u001b[0;34m,\u001b[0m \u001b[0miris\u001b[0m\u001b[0;34m.\u001b[0m\u001b[0manalysis\u001b[0m\u001b[0;34m.\u001b[0m\u001b[0mAreaWeighted\u001b[0m\u001b[0;34m(\u001b[0m\u001b[0;34m)\u001b[0m\u001b[0;34m)\u001b[0m\u001b[0;34m\u001b[0m\u001b[0m\n\u001b[0m",
      "\u001b[0;32m~/miniconda3/envs/uvis_env/lib/python3.6/site-packages/iris/cube.py\u001b[0m in \u001b[0;36mregrid\u001b[0;34m(self, grid, scheme)\u001b[0m\n\u001b[1;32m   3743\u001b[0m         \"\"\"\n\u001b[1;32m   3744\u001b[0m         \u001b[0mregridder\u001b[0m \u001b[0;34m=\u001b[0m \u001b[0mscheme\u001b[0m\u001b[0;34m.\u001b[0m\u001b[0mregridder\u001b[0m\u001b[0;34m(\u001b[0m\u001b[0mself\u001b[0m\u001b[0;34m,\u001b[0m \u001b[0mgrid\u001b[0m\u001b[0;34m)\u001b[0m\u001b[0;34m\u001b[0m\u001b[0m\n\u001b[0;32m-> 3745\u001b[0;31m         \u001b[0;32mreturn\u001b[0m \u001b[0mregridder\u001b[0m\u001b[0;34m(\u001b[0m\u001b[0mself\u001b[0m\u001b[0;34m)\u001b[0m\u001b[0;34m\u001b[0m\u001b[0m\n\u001b[0m\u001b[1;32m   3746\u001b[0m \u001b[0;34m\u001b[0m\u001b[0m\n\u001b[1;32m   3747\u001b[0m \u001b[0;34m\u001b[0m\u001b[0m\n",
      "\u001b[0;32m~/miniconda3/envs/uvis_env/lib/python3.6/site-packages/iris/analysis/_area_weighted.py\u001b[0m in \u001b[0;36m__call__\u001b[0;34m(self, cube)\u001b[0m\n\u001b[1;32m    111\u001b[0m                              'source grid as this regridder.')\n\u001b[1;32m    112\u001b[0m         return eregrid.regrid_area_weighted_rectilinear_src_and_grid(\n\u001b[0;32m--> 113\u001b[0;31m             cube, self._target_grid_cube, mdtol=self._mdtol)\n\u001b[0m",
      "\u001b[0;32m~/miniconda3/envs/uvis_env/lib/python3.6/site-packages/iris/experimental/regrid.py\u001b[0m in \u001b[0;36mregrid_area_weighted_rectilinear_src_and_grid\u001b[0;34m(src_cube, grid_cube, mdtol)\u001b[0m\n\u001b[1;32m    678\u001b[0m     \u001b[0;32mif\u001b[0m \u001b[0;32mnot\u001b[0m \u001b[0msrc_x\u001b[0m\u001b[0;34m.\u001b[0m\u001b[0mis_contiguous\u001b[0m\u001b[0;34m(\u001b[0m\u001b[0;34m)\u001b[0m \u001b[0;32mor\u001b[0m \u001b[0;32mnot\u001b[0m \u001b[0msrc_y\u001b[0m\u001b[0;34m.\u001b[0m\u001b[0mis_contiguous\u001b[0m\u001b[0;34m(\u001b[0m\u001b[0;34m)\u001b[0m \u001b[0;32mor\u001b[0m\u001b[0;31m \u001b[0m\u001b[0;31m\\\u001b[0m\u001b[0;34m\u001b[0m\u001b[0m\n\u001b[1;32m    679\u001b[0m             \u001b[0;32mnot\u001b[0m \u001b[0mgrid_x\u001b[0m\u001b[0;34m.\u001b[0m\u001b[0mis_contiguous\u001b[0m\u001b[0;34m(\u001b[0m\u001b[0;34m)\u001b[0m \u001b[0;32mor\u001b[0m \u001b[0;32mnot\u001b[0m \u001b[0mgrid_y\u001b[0m\u001b[0;34m.\u001b[0m\u001b[0mis_contiguous\u001b[0m\u001b[0;34m(\u001b[0m\u001b[0;34m)\u001b[0m\u001b[0;34m:\u001b[0m\u001b[0;34m\u001b[0m\u001b[0m\n\u001b[0;32m--> 680\u001b[0;31m         raise ValueError(\"The horizontal grid coordinates of both the source \"\n\u001b[0m\u001b[1;32m    681\u001b[0m                          \"and grid cubes must have contiguous bounds.\")\n\u001b[1;32m    682\u001b[0m \u001b[0;34m\u001b[0m\u001b[0m\n",
      "\u001b[0;31mValueError\u001b[0m: The horizontal grid coordinates of both the source and grid cubes must have contiguous bounds."
     ]
    }
   ],
   "source": [
    "\n",
    "\n",
    "dat1_regrid = u_cube_list[1].regrid(mask1, iris.analysis.AreaWeighted())"
   ]
  },
  {
   "cell_type": "markdown",
   "metadata": {},
   "source": [
    "### Plot out to see it's working"
   ]
  },
  {
   "cell_type": "code",
   "execution_count": 29,
   "metadata": {},
   "outputs": [
    {
     "name": "stdout",
     "output_type": "stream",
     "text": [
      "4xDaily u-wind at 10 m / (m/s)      (latitude: 94; longitude: 192)\n",
      "     Dimension coordinates:\n",
      "          latitude                           x              -\n",
      "          longitude                          -              x\n",
      "     Scalar coordinates:\n",
      "          time: 2001-07-02 09:00:00, bound=(2001-01-01 00:00:00, 2001-12-31 18:00:00)\n",
      "     Attributes:\n",
      "          Conventions: COARDS\n",
      "          GRIB_id: 33\n",
      "          GRIB_name: U GRD\n",
      "          References: http://www.esrl.noaa.gov/psd/data/gridded/data.ncep.reanalysis.html\n",
      "          dataset: NCEP Reanalysis\n",
      "          dataset_title: NCEP-NCAR Reanalysis 1\n",
      "          description: Data is from NMC initialized reanalysis\n",
      "(4x/day).  It consists of T62 variables...\n",
      "          least_significant_digit: 1\n",
      "          level_desc: 10 m\n",
      "          parent_stat: Other\n",
      "          platform: Model\n",
      "          precision: 2\n",
      "          statistic: Individual Obs\n",
      "          valid_range: [-102.2  102.2]\n",
      "          var_desc: u-wind\n",
      "     Cell methods:\n",
      "          mean: time\n"
     ]
    }
   ],
   "source": [
    "dat1 = u_cube_list[0].collapsed('time', iris.analysis.MEAN)\n",
    "print(dat1)\n",
    "# dat2 = v_cube_list[0].collapsed('time', iris.analysis.MEAN)\n",
    "plot_lonely_cube(dat1, cmap = 'gist_heat_r')\n",
    "# print(dat1.coord('latitude'))\n",
    "\n",
    "# qplt.contourf(dat1)\n",
    "# plt.gca().coastlines()"
   ]
  },
  {
   "cell_type": "markdown",
   "metadata": {},
   "source": [
    "### Testing to try and combine cubes together"
   ]
  },
  {
   "cell_type": "code",
   "execution_count": 73,
   "metadata": {},
   "outputs": [
    {
     "name": "stdout",
     "output_type": "stream",
     "text": [
      "0: 4xDaily u-wind at 10 m / (m/s)      (time: 1460; latitude: 94; longitude: 192)\n",
      "1: 4xDaily u-wind at 10 m / (m/s)      (time: 1460; latitude: 94; longitude: 192)\n",
      "2: 4xDaily u-wind at 10 m / (m/s)      (time: 1460; latitude: 94; longitude: 192)\n",
      "hours since 1800-01-01 00:00:0.0 {'Conventions': 'COARDS', 'description': 'Data is from NMC initialized reanalysis\\n(4x/day).  It consists of T62 variables interpolated to\\npressure surfaces from model (sigma) surfaces.', 'platform': 'Model', 'References': 'http://www.esrl.noaa.gov/psd/data/gridded/data.ncep.reanalysis.html', 'dataset_title': 'NCEP-NCAR Reanalysis 1', 'GRIB_id': 33, 'GRIB_name': 'U GRD', 'dataset': 'NCEP Reanalysis', 'least_significant_digit': 1, 'level_desc': '10 m', 'parent_stat': 'Other', 'precision': 2, 'statistic': 'Individual Obs', 'valid_range': array([-102.2,  102.2], dtype=float32), 'var_desc': 'u-wind'}\n",
      "hours since 1800-01-01 00:00:0.0 {'Conventions': 'COARDS', 'description': 'Data is from NMC initialized reanalysis\\n(4x/day).  It consists of T62 variables interpolated to\\npressure surfaces from model (sigma) surfaces.', 'platform': 'Model', 'References': 'http://www.esrl.noaa.gov/psd/data/gridded/data.ncep.reanalysis.html', 'dataset_title': 'NCEP-NCAR Reanalysis 1', 'GRIB_id': 33, 'GRIB_name': 'U GRD', 'dataset': 'NCEP Reanalysis', 'least_significant_digit': 1, 'level_desc': '10 m', 'parent_stat': 'Other', 'precision': 2, 'statistic': 'Individual Obs', 'valid_range': array([-102.2,  102.2], dtype=float32), 'var_desc': 'u-wind'}\n"
     ]
    }
   ],
   "source": [
    "# unify_time_units(u_cube_list)\n",
    "equalise_attributes(u_cube_list)\n",
    "# u = u_cube_list.concatenate_cube()\n",
    "\n",
    "# v_cube_list = iris.cube.CubeList(vList)\n",
    "# v = v_cube_list.merge_cube()\n",
    "\n",
    "print(u)\n",
    "print(u[0].coord('time').units, u[0].attributes)\n",
    "print(u[1].coord('time').units, u[1].attributes)\n",
    "# print(u[2].coord('time').units, u[2].attributes)"
   ]
  },
  {
   "cell_type": "markdown",
   "metadata": {},
   "source": [
    "## Calculate wind speed\n",
    "\n",
    "For a single year, calculate `s` which is wind speed, given by:\n",
    "\n",
    "$s = \\sqrt(u^2 + v^2)$"
   ]
  },
  {
   "cell_type": "code",
   "execution_count": 4,
   "metadata": {},
   "outputs": [],
   "source": [
    "u = iris.load_cube(u_files[0])\n",
    "v = iris.load_cube(v_files[0])\n",
    "\n",
    "# Have to load in data to do this (may take a while)\n",
    "v_dat = v.data\n",
    "u_dat = u.data\n",
    "s_dat = np.sqrt((v_dat * v_dat) + (u_dat * u_dat))\n",
    "\n",
    "# Put data in a cube, bit cheating but it works\n",
    "s = v.copy()\n",
    "s.data = s_dat"
   ]
  },
  {
   "cell_type": "markdown",
   "metadata": {},
   "source": [
    "#### Take the 4 measurements per day and find the maximum wind speed. Add day time coordinate"
   ]
  },
  {
   "cell_type": "code",
   "execution_count": 5,
   "metadata": {},
   "outputs": [],
   "source": [
    "# add_month, add_day_of_year, year\n",
    "iris.coord_categorisation.add_month(s, 'time', name='month')\n",
    "iris.coord_categorisation.add_day_of_year(s, 'time', name='day_of_year')\n",
    "iris.coord_categorisation.add_year(s, 'time', name='year')"
   ]
  },
  {
   "cell_type": "code",
   "execution_count": 15,
   "metadata": {},
   "outputs": [
    {
     "data": {
      "text/plain": [
       "DimCoord(array([1762305., 1763013., 1763721., 1764453., 1765185., 1765917.,\n",
       "       1766649., 1767393., 1768125., 1768857., 1769589., 1770321.]), bounds=array([[1761936., 1762674.],\n",
       "       [1762680., 1763346.],\n",
       "       [1763352., 1764090.],\n",
       "       [1764096., 1764810.],\n",
       "       [1764816., 1765554.],\n",
       "       [1765560., 1766274.],\n",
       "       [1766280., 1767018.],\n",
       "       [1767024., 1767762.],\n",
       "       [1767768., 1768482.],\n",
       "       [1768488., 1769226.],\n",
       "       [1769232., 1769946.],\n",
       "       [1769952., 1770690.]]), standard_name='time', units=Unit('hours since 1800-01-01 00:00:0.0', calendar='gregorian'), long_name='Time', var_name='time', attributes={'actual_range': array([1761936., 1770690.]), 'delta_t': '0000-00-00 06:00:00'})"
      ]
     },
     "execution_count": 15,
     "metadata": {},
     "output_type": "execute_result"
    }
   ],
   "source": [
    "test = s.aggregated_by(['day_of_year'], iris.analysis.MAX)\n",
    "swnd = test.aggregated_by(['month'], iris.analysis.MEAN) # test.aggregated_by(['month', 'year'], iris.analysis.MEAN)"
   ]
  },
  {
   "cell_type": "markdown",
   "metadata": {},
   "source": [
    "### Save outputs"
   ]
  },
  {
   "cell_type": "code",
   "execution_count": 94,
   "metadata": {},
   "outputs": [
    {
     "name": "stdout",
     "output_type": "stream",
     "text": [
      "../data/aus_wind/swnd.10m.gauss.2001-2009.nc\n"
     ]
    }
   ],
   "source": [
    "out = path_out + outfile + str(years[0]) + '-' + str(years[len(years) -1]) + '.nc'\n",
    "print(out)\n",
    "# iris.save(swnd, out)"
   ]
  }
 ],
 "metadata": {
  "kernelspec": {
   "display_name": "Python 3",
   "language": "python",
   "name": "python3"
  },
  "language_info": {
   "codemirror_mode": {
    "name": "ipython",
    "version": 3
   },
   "file_extension": ".py",
   "mimetype": "text/x-python",
   "name": "python",
   "nbconvert_exporter": "python",
   "pygments_lexer": "ipython3",
   "version": "3.6.6"
  }
 },
 "nbformat": 4,
 "nbformat_minor": 4
}
