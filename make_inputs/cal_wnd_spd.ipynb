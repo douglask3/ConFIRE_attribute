{
 "cells": [
  {
   "cell_type": "markdown",
   "metadata": {},
   "source": [
    "Combine u and v wind files"
   ]
  },
  {
   "cell_type": "code",
   "execution_count": 2,
   "metadata": {},
   "outputs": [
    {
     "name": "stdout",
     "output_type": "stream",
     "text": [
      "The autoreload extension is already loaded. To reload it, use:\n",
      "  %reload_ext autoreload\n"
     ]
    }
   ],
   "source": [
    "# Libraries\n",
    "%load_ext autoreload\n",
    "%autoreload\n",
    "\n",
    "\n",
    "import numpy as np\n",
    "import iris\n",
    "import iris.coord_categorisation\n",
    "# import pandas as pd\n",
    "\n",
    "import glob\n",
    "import sys\n",
    "sys.path.append('../')\n",
    "from libs.plot_maps import *\n",
    "\n",
    "\n",
    "import warnings\n",
    "warnings.filterwarnings('ignore')\n",
    "import matplotlib.pyplot as plt\n",
    "import numpy.ma as ma\n",
    "%matplotlib inline\n",
    "import cartopy.crs as ccrs"
   ]
  },
  {
   "cell_type": "code",
   "execution_count": 3,
   "metadata": {},
   "outputs": [
    {
     "name": "stdout",
     "output_type": "stream",
     "text": [
      "../data/aus_wind/uwnd.10m.gauss.2001.nc../data/aus_wind/vwnd.10m.gauss.2001.nc\n"
     ]
    }
   ],
   "source": [
    "path     = '../data/aus_wind/'\n",
    "\n",
    "# Extracts all the files in that folder\n",
    "u_files = glob.glob(path + 'uwnd*.nc') # use 'recursive = True' to include subdirectories\n",
    "u_files = sorted(u_files) # sort alphabetically\n",
    "v_files = glob.glob(path + 'vwnd*.nc') \n",
    "print(u_files[0] + v_files[0])"
   ]
  },
  {
   "cell_type": "markdown",
   "metadata": {},
   "source": [
    "### Calculate wind speed\n",
    "\n",
    "For a single year, calculate `s` which is wind speed, given by:\n",
    "\n",
    "$s = \\sqrt(u^2 + v^2)$"
   ]
  },
  {
   "cell_type": "code",
   "execution_count": 29,
   "metadata": {},
   "outputs": [],
   "source": [
    "u = iris.load_cube(u_files[0])\n",
    "v = iris.load_cube(v_files[0])\n",
    "\n",
    "# Have to load in data to do this (may take a while)\n",
    "v_dat = v.data\n",
    "u_dat = u.data\n",
    "s_dat = np.sqrt((v_dat * v_dat) + (u_dat * u_dat))\n",
    "\n",
    "# Put data in a cube, bit cheating but it works\n",
    "s = v.copy()\n",
    "s.data = s_dat"
   ]
  },
  {
   "cell_type": "markdown",
   "metadata": {},
   "source": [
    "Take the 4 measurements per day and find the maximum wind speed. Add day time coordinate"
   ]
  },
  {
   "cell_type": "code",
   "execution_count": 35,
   "metadata": {},
   "outputs": [],
   "source": [
    "# add_month and add_day_of_year\n",
    "\n",
    "iris.coord_categorisation.add_month(s, 'time', name='month')\n",
    "iris.coord_categorisation.add_day_of_year(s, 'time', name='day_of_year')"
   ]
  },
  {
   "cell_type": "code",
   "execution_count": 36,
   "metadata": {},
   "outputs": [
    {
     "name": "stdout",
     "output_type": "stream",
     "text": [
      "4xDaily v-wind at 10 m / (m/s)      (time: 1460; latitude: 94; longitude: 192)\n",
      "     Dimension coordinates:\n",
      "          time                           x               -              -\n",
      "          latitude                       -               x              -\n",
      "          longitude                      -               -              x\n",
      "     Auxiliary coordinates:\n",
      "          day_of_year                    x               -              -\n",
      "          month                          x               -              -\n",
      "     Attributes:\n",
      "          Conventions: COARDS\n",
      "          GRIB_id: 34\n",
      "          GRIB_name: V GRD\n",
      "          References: http://www.esrl.noaa.gov/psd/data/gridded/data.ncep.reanalysis.html\n",
      "          actual_range: [-30.199997  28.699997]\n",
      "          dataset: NCEP Reanalysis\n",
      "          dataset_title: NCEP-NCAR Reanalysis 1\n",
      "          description: Data is from NMC initialized reanalysis\n",
      "(4x/day).  It consists of T62 variables...\n",
      "          history: created 00/12/18 by Hoop (netCDF2.3)\n",
      "Converted to chunked, deflated non-packed...\n",
      "          least_significant_digit: 1\n",
      "          level_desc: 10 m\n",
      "          parent_stat: Other\n",
      "          platform: Model\n",
      "          precision: 2\n",
      "          statistic: Individual Obs\n",
      "          title: 4x daily NMC reanalysis (2001)\n",
      "          valid_range: [-102.2  102.2]\n",
      "          var_desc: v-wind\n"
     ]
    }
   ],
   "source": [
    "print(s)"
   ]
  },
  {
   "cell_type": "code",
   "execution_count": null,
   "metadata": {},
   "outputs": [],
   "source": []
  }
 ],
 "metadata": {
  "kernelspec": {
   "display_name": "Python 3",
   "language": "python",
   "name": "python3"
  },
  "language_info": {
   "codemirror_mode": {
    "name": "ipython",
    "version": 3
   },
   "file_extension": ".py",
   "mimetype": "text/x-python",
   "name": "python",
   "nbconvert_exporter": "python",
   "pygments_lexer": "ipython3",
   "version": "3.6.6"
  }
 },
 "nbformat": 4,
 "nbformat_minor": 4
}
