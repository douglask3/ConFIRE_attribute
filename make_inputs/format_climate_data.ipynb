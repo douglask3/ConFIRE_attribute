{
 "cells": [
  {
   "cell_type": "markdown",
   "metadata": {},
   "source": [
    "## Formatting the climate data\n",
    "So it has named dimensions if they don't already"
   ]
  },
  {
   "cell_type": "code",
   "execution_count": 60,
   "metadata": {},
   "outputs": [
    {
     "name": "stdout",
     "output_type": "stream",
     "text": [
      "The autoreload extension is already loaded. To reload it, use:\n",
      "  %reload_ext autoreload\n"
     ]
    }
   ],
   "source": [
    "# Libraries\n",
    "%load_ext autoreload\n",
    "%autoreload\n",
    "\n",
    "import numpy as np\n",
    "import iris\n",
    "import iris.coord_categorisation\n",
    "import pandas as pd\n",
    "\n",
    "import sys\n",
    "sys.path.append('../')\n",
    "from libs.plot_maps import *\n",
    "\n",
    "\n",
    "import warnings\n",
    "warnings.filterwarnings('ignore')\n",
    "import matplotlib.pyplot as plt\n",
    "import numpy.ma as ma\n",
    "%matplotlib inline\n",
    "import cartopy.crs as ccrs"
   ]
  },
  {
   "cell_type": "markdown",
   "metadata": {},
   "source": [
    "Loading in the data (ignoring precipation because (a) we don't need it and (b) it has additional dimension coordinates (lat_bnds and lon_bnds) which upset iris."
   ]
  },
  {
   "cell_type": "code",
   "execution_count": 61,
   "metadata": {
    "scrolled": true
   },
   "outputs": [
    {
     "name": "stdout",
     "output_type": "stream",
     "text": [
      "air\n",
      "precip\n",
      "lightning\n",
      "relative_humidity\n"
     ]
    }
   ],
   "source": [
    "dir_data     = '../data/'\n",
    "dir_temp     = '../temp/'\n",
    "dir_outputs  = '../outputs/climate/'\n",
    "files      = { 'air'               : 'air.mon.mean.nc',\n",
    "               'precip'            : 'precip.mon.mean.nc',\n",
    "               'lightning'         : 'lightn_climatology_otd_mlnha.nc',\n",
    "               'relative_humidity' : 'rhum.mon.mean.nc'}\n",
    "\n",
    "input_data = {}\n",
    "\n",
    "\n",
    "\n",
    "for key, f in files.items():\n",
    "    print(key)\n",
    "    try:\n",
    "        dat = iris.load_cube(dir_data + f)\n",
    "    except:\n",
    "        dat = iris.load(dir_data + f)[1]\n",
    "    input_data[key] = dat"
   ]
  },
  {
   "cell_type": "markdown",
   "metadata": {},
   "source": [
    "Adding a year coordinate to relative humidity and air files and cutting it off before 2001:"
   ]
  },
  {
   "cell_type": "code",
   "execution_count": 62,
   "metadata": {},
   "outputs": [],
   "source": [
    "post_2001 = {}\n",
    "for key in input_data.keys():\n",
    "    if key != 'lightning':\n",
    "            # Add coord of year\n",
    "            iris.coord_categorisation.add_year(input_data[key], 'time', name='year')\n",
    "            \n",
    "            # Extract from 2001 onwards\n",
    "            post_2001[key] = input_data[key].extract(iris.Constraint(year=lambda y: y >= 2001))"
   ]
  },
  {
   "cell_type": "markdown",
   "metadata": {},
   "source": [
    "## Lightning\n",
    "Regrid lightning to the mask:"
   ]
  },
  {
   "cell_type": "code",
   "execution_count": 63,
   "metadata": {},
   "outputs": [],
   "source": [
    "air_temp = input_data['air'].collapsed('time', iris.analysis.MEAN)\n",
    "\n",
    "input_data['lightning'] = input_data['lightning'].regrid(air_temp, iris.analysis.Linear())"
   ]
  },
  {
   "cell_type": "code",
   "execution_count": 64,
   "metadata": {},
   "outputs": [
    {
     "name": "stdout",
     "output_type": "stream",
     "text": [
      "j:  0\n",
      "j:  12\n",
      "j:  24\n",
      "j:  36\n",
      "j:  48\n",
      "j:  60\n",
      "j:  72\n",
      "j:  84\n",
      "j:  96\n",
      "j:  108\n",
      "j:  120\n",
      "j:  132\n",
      "j:  144\n",
      "j:  156\n",
      "j:  168\n",
      "j:  180\n",
      "j:  192\n",
      "j:  204\n",
      "j:  216\n"
     ]
    }
   ],
   "source": [
    "lightning = post_2001['air'].copy()\n",
    "light = lightning.aggregated_by(['year'], iris.analysis.MEAN)\n",
    "j = 0\n",
    "for k in range(len(light.coord('year').points) - 1):\n",
    "    lightning.data[j:j+12,:,:] = input_data['lightning'].data\n",
    "\n",
    "    print('j: ', j)\n",
    "    j += 12\n",
    "\n",
    "# The last year might not of reached the end, so I'll add the data in for this single case\n",
    "endMonth = lightning.shape[0] - j\n",
    "lightning.data[j:,:,:] = input_data['lightning'][:endMonth].data\n",
    "print('j: ', j)\n",
    "post_2001['lightning'] = lightning"
   ]
  },
  {
   "cell_type": "markdown",
   "metadata": {},
   "source": [
    "#### Saving files (all)"
   ]
  },
  {
   "cell_type": "code",
   "execution_count": 65,
   "metadata": {},
   "outputs": [],
   "source": [
    "for key in post_2001.keys():\n",
    "    out = key + '2001-2019_test.nc'\n",
    "    iris.save(post_2001[key], dir_temp + out)"
   ]
  },
  {
   "cell_type": "markdown",
   "metadata": {},
   "source": [
    "### Adding coord system"
   ]
  },
  {
   "cell_type": "code",
   "execution_count": 66,
   "metadata": {},
   "outputs": [
    {
     "name": "stdout",
     "output_type": "stream",
     "text": [
      "air\n",
      "precip\n",
      "lightning\n",
      "relative_humidity\n"
     ]
    }
   ],
   "source": [
    "files      = { 'air'               : 'air2001-2019_test.nc',\n",
    "               'precip'            : \"precip2001-2019_test.nc\",\n",
    "               'lightning'         : 'lightning2001-2019_test.nc',\n",
    "               'relative_humidity' : 'relative_humidity2001-2019_test.nc'}\n",
    "\n",
    "input_data = {}\n",
    "\n",
    "for key, f in files.items():\n",
    "    print(key)\n",
    "    dat = iris.load_cube(dir_temp + f)\n",
    "    input_data[key] = dat"
   ]
  },
  {
   "cell_type": "code",
   "execution_count": 67,
   "metadata": {},
   "outputs": [],
   "source": [
    "lat = input_data['air'].coord('latitude').points\n",
    "lon = input_data['air'].coord('longitude').points"
   ]
  },
  {
   "cell_type": "code",
   "execution_count": 68,
   "metadata": {},
   "outputs": [],
   "source": [
    "# Dim coord for latitude (index: 1)\n",
    "coord_lat = iris.coords.DimCoord(lat, standard_name='latitude',\n",
    "                                 coord_system=iris.coord_systems.GeogCS(6371229.0),var_name='latitude',\n",
    "                                 units='degrees')\n",
    "\n",
    "# Dim coord for longitude (index: 2)\n",
    "coord_lon = iris.coords.DimCoord(lon, standard_name='longitude',\n",
    "                                 coord_system=iris.coord_systems.GeogCS(6371229.0),var_name='longitude',\n",
    "                                 units='degrees')"
   ]
  },
  {
   "cell_type": "code",
   "execution_count": 69,
   "metadata": {},
   "outputs": [],
   "source": [
    "for key in input_data.keys():\n",
    "    try:\n",
    "        input_data[key].remove_coord('latitude')\n",
    "        input_data[key].remove_coord('longitude')\n",
    "    \n",
    "        # Adding dimension coordinates to data\n",
    "        input_data[key].add_dim_coord(coord_lat, 1)\n",
    "        input_data[key].add_dim_coord(coord_lon, 2)\n",
    "    except:\n",
    "        pass"
   ]
  },
  {
   "cell_type": "code",
   "execution_count": 70,
   "metadata": {},
   "outputs": [],
   "source": [
    "for key in input_data.keys():\n",
    "    out = key + '2001-2019.nc'\n",
    "    iris.save(input_data[key], dir_outputs + out)"
   ]
  },
  {
   "cell_type": "markdown",
   "metadata": {},
   "source": []
  }
 ],
 "metadata": {
  "kernelspec": {
   "display_name": "Python 3",
   "language": "python",
   "name": "python3"
  },
  "language_info": {
   "codemirror_mode": {
    "name": "ipython",
    "version": 3
   },
   "file_extension": ".py",
   "mimetype": "text/x-python",
   "name": "python",
   "nbconvert_exporter": "python",
   "pygments_lexer": "ipython3",
   "version": "3.7.3"
  }
 },
 "nbformat": 4,
 "nbformat_minor": 4
}
